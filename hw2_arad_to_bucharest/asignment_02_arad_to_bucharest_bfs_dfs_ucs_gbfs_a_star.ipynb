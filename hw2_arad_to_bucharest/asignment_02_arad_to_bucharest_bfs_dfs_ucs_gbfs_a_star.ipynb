{
 "cells": [
  {
   "cell_type": "markdown",
   "id": "a07824ad",
   "metadata": {
    "deletable": false,
    "editable": false
   },
   "source": [
    "## CSE 4705: Assignment 02 - Arad to Bucharest - BFS, DFS, UCS, GBFS, A* \n"
   ]
  },
  {
   "cell_type": "markdown",
   "id": "f723f262",
   "metadata": {
    "deletable": false
   },
   "source": [
    "## Problem 1\n",
    "[100] Write a routine that solves the problem of finds a travel path of cities from from Arad to Bucharest in Romania, as discussed in class. Do this using each of the following approaches (points shown in brackets):\n",
    "\n",
    "1. [15] Breadth First Search (BFS)\n",
    "2. [10] Depth First Search (DFS)\n",
    "3. [25] Uniform Cost Search (UCS)\n",
    "4. [25] Greedy Best First Search (GBFS)\n",
    "5. [25] A*\n",
    "\n",
    "\n",
    "You will use the map from Lecture 03 - Informed Search which shows the major cities in Romania and the distances between them for those cities that are directly connected.  Also, you will use the straight-line-distances shown in the adjacent table for your heuristic function, $h(n)$ for GBFS and A*.  A screenshot of the relevant slide is given below.  Data structures that store this information, romania_map and sld_to_bucharest, have been provided so you can access and apply this data in your algorithm implementations.  Details of these data structures are given below.\n",
    "\n",
    "<img src=\"images/romania_cities.png\" width=\"800\" height=\"600\">\n",
    "\n",
    "### Output for Each Routine\n",
    "\n",
    "Each of your routines should return an output or set of outputs that clearly indicates the following:\n",
    "\n",
    "1. The sequence of cities from Arad to Bucharest.  (Make sure the cities, Arad and Bucharest are explicitly listed as the first and last cities in your output.)  One suggestion is to return this output in the form of a list.\n",
    "2. Cost to travel to each city from its predecessor.  \n",
    "3. Total cost for the path.  \n",
    "\n",
    "In the case of A* and Uniform Cost Search, your routines should return the *cheapest path*.  However, that will not necessarily be the case for BFS, DFS, or GBFS.  (Why not?)"
   ]
  },
  {
   "cell_type": "markdown",
   "id": "7780765b",
   "metadata": {
    "deletable": false,
    "editable": false
   },
   "source": [
    "### Romania Graph\n",
    "\n",
    "You will use the data structure stored in the romania_map, assigned below to implement the search across the various cities to find a path from Arad to Bucharest.\n",
    "\n",
    "Some details about romania_map:\n",
    "- A dictionary of dictionaries \n",
    "- The outer dictionary is as follows: each key is a city and the value for that city is a nested dictionary of cities to which the said city is directly connected.\n",
    "- The nested dictionary contains the cities to which the parent key is directly connected (keys) and the corresponding distances from the parent city to those respective cities (values).\n",
    "- For example, for the city Oradea, we have a key in the outer dictionary (Oradea), and the associated value is a dictionary containing the Zerind and Sibiu as keys, where for each of these the values are the distances from Oradea to these respective cities.\n",
    "\n"
   ]
  },
  {
   "cell_type": "code",
   "execution_count": 1,
   "id": "9c5f305a",
   "metadata": {
    "deletable": false,
    "editable": false
   },
   "outputs": [],
   "source": [
    "\n",
    "romania_map = {\n",
    "    'Oradea':{'Zerind':71, 'Sibiu':151},\n",
    "    'Zerind':{'Oradea':71, 'Arad':75},\n",
    "    'Arad':{'Zerind':75, 'Sibiu':140, 'Timisoara':118},\n",
    "    'Timisoara':{'Arad':118, 'Lugoj':111},\n",
    "    'Lugoj':{'Timisoara':111, 'Mehadia':70},\n",
    "    'Mehadia':{'Lugoj':70, 'Dobreta':75},\n",
    "    'Dobreta':{'Mehadia':75, 'Craiova':120},\n",
    "    'Sibiu':{'Oradea':151, 'Fagaras':99, 'Rimnicu Vilcea':80, 'Arad':140},\n",
    "    'Rimnicu Vilcea':{'Sibiu':80, 'Pitesti':97, 'Craiova':146},\n",
    "    'Craiova':{'Rimnicu Vilcea':146, 'Pitesti':138, 'Dobreta':120},\n",
    "    'Fagaras':{'Sibiu':99, 'Bucharest':211},\n",
    "    'Pitesti':{'Rimnicu Vilcea':97, 'Bucharest':101, 'Craiova':138},\n",
    "    'Neamt':{'Iasi':87},\n",
    "    'Giurgiu':{'Bucharest':90},\n",
    "    'Bucharest':{'Pitesti':101, 'Fagaras':211, 'Urziceni':85, 'Giurgiu':90},\n",
    "    'Iasi':{'Neamt':87, 'Vaslui':92},\n",
    "    'Urziceni':{'Bucharest':85, 'Vaslui':142, 'Hirsova':98},\n",
    "    'Vaslui':{'Iasi':92, 'Urziceni':142},\n",
    "    'Hirsova':{'Urziceni':98, 'Eforie':86},\n",
    "    'Eforie':{'Hirsova':86}\n",
    "}"
   ]
  },
  {
   "cell_type": "markdown",
   "id": "0042909e",
   "metadata": {
    "deletable": false,
    "editable": false
   },
   "source": [
    "### Heuristic Function Data - Straight-Line Distances to Bucharest\n",
    "\n",
    "You will use the dictionary below as your resource for retrieving straight-line distance data for implementing the GBFS and A* algorithms."
   ]
  },
  {
   "cell_type": "code",
   "execution_count": 2,
   "id": "aaf76cda",
   "metadata": {
    "deletable": false,
    "editable": false
   },
   "outputs": [],
   "source": [
    "sld_to_Bucharest = {'Arad':366,\n",
    "                    'Bucharest':0,\n",
    "                    'Craiova':160,\n",
    "                    'Dobreta':242,\n",
    "                    'Eforie':161,\n",
    "                    'Fagaras':176,\n",
    "                    'Giurgiu':77,\n",
    "                    'Hirsova':151,\n",
    "                    'Iasi':226,\n",
    "                    'Lugoj':244,\n",
    "                    'Mehadia':241,\n",
    "                    'Neamt':234,\n",
    "                    'Oradea':380,\n",
    "                    'Pitesti':100,\n",
    "                    'Rimnicu Vilcea':193,\n",
    "                    'Sibiu':253,\n",
    "                    'Timisoara':329,\n",
    "                    'Urziceni':80,\n",
    "                    'Vaslui':199,\n",
    "                    'Zerind':374\n",
    "                   }"
   ]
  },
  {
   "cell_type": "markdown",
   "id": "49c8d585",
   "metadata": {
    "deletable": false,
    "editable": false
   },
   "source": [
    "### 1. BFS Implementation\n",
    "\n",
    "Provide your implementation of the BFS Search below."
   ]
  },
  {
   "cell_type": "code",
   "execution_count": 3,
   "id": "dc105d97",
   "metadata": {},
   "outputs": [],
   "source": [
    "class Node:\n",
    "    def __init__(self, value):\n",
    "        self.value = value\n",
    "        self.adj_nodes = {} # key = adjacent node object : value = distance\n",
    "        self.prev = None\n",
    "\n",
    "class Graph:\n",
    "    def __init__(self):\n",
    "        self.nodes = []\n",
    "        self.cities = {} # key = city name : value = node object\n",
    "\n",
    "    def add_node(self, value):\n",
    "        if isinstance(value, Node):\n",
    "            self.nodes.append(value)\n",
    "            return value\n",
    "        \n",
    "        new_node = Node(value)\n",
    "        self.nodes.append(new_node)\n",
    "        return new_node\n",
    "\n",
    "    def add_edge(self, node1, node2, distance=None):\n",
    "        node1.adj_nodes[node2] = distance\n",
    "        node2.adj_nodes[node1] = distance\n",
    "\n",
    "\n",
    "    def add_cities(self, locations): #add locations from a dictionary to graph\n",
    "        for city in locations:\n",
    "            if city not in self.cities:\n",
    "                Source_Node = self.add_node(city)\n",
    "                self.cities[city] = Source_Node\n",
    "            else:\n",
    "                Source_Node = self.cities[city]\n",
    "            \n",
    "            for neighbor in locations[city]:\n",
    "                if neighbor not in self.cities:\n",
    "                    Destination_Node = self.add_node(neighbor)\n",
    "                    self.cities[neighbor] = Destination_Node\n",
    "                else:\n",
    "                    Destination_Node = self.cities[neighbor]\n",
    "                \n",
    "                self.add_edge(Source_Node, Destination_Node, locations[city][neighbor])\n",
    "\n",
    "        \n",
    "    \n",
    "    #Reset Node pointers to run next algo\n",
    "    def reset_prev_pointers(self):\n",
    "        for node in self.nodes:\n",
    "            node.prev = None\n",
    "\n",
    "\n",
    "    # traverse previous nodes, format, then return path as string\n",
    "    def sol_found(self, start_node, node):\n",
    "        goal_node = node\n",
    "        path = []\n",
    "        distance = 0\n",
    "        path_str = \"\"\n",
    "    \n",
    "        while (node.prev != None):\n",
    "            cur_node = node\n",
    "            path.append((cur_node, cur_node.adj_nodes[node.prev]))\n",
    "    \n",
    "            distance += cur_node.adj_nodes[node.prev]\n",
    "    \n",
    "            node = node.prev\n",
    "    \n",
    "        path.append((start_node, 0))\n",
    "    \n",
    "        for node, dist in path[::-1]:\n",
    "            path_str += str(node.value)\n",
    "            if node != goal_node:\n",
    "                path_str += f\" [cost = {dist}] -> \"\n",
    "            else:\n",
    "                path_str += f\" [cost = {dist}]\"\n",
    "    \n",
    "        path_str += f\"\\ntotal distance= {distance}\"\n",
    "        return path_str\n",
    "    \n"
   ]
  },
  {
   "cell_type": "code",
   "execution_count": 4,
   "id": "d93bf6fd",
   "metadata": {},
   "outputs": [],
   "source": [
    "\n",
    "\n",
    "city_graph = Graph()\n",
    "city_graph.add_cities(romania_map)"
   ]
  },
  {
   "cell_type": "code",
   "execution_count": 5,
   "id": "b8b8b86e",
   "metadata": {},
   "outputs": [],
   "source": [
    "# *************************************\n",
    "# BFS CODE\n",
    "# *************************************\n",
    "def bfs(self, start_node, end_node):\n",
    "    if (not isinstance(start_node, Node)):\n",
    "        start_node = self.cities[start_node]\n",
    "\n",
    "    if (not isinstance(end_node, Node)):\n",
    "        end_node = self.cities[end_node]\n",
    "    visited_nodes = set()\n",
    "    frontier = []\n",
    "    visited_nodes.add(start_node)\n",
    "    frontier.append(start_node)\n",
    "    while (frontier): # while frontier is not empty\n",
    "        current_node = frontier.pop(0) #current_node = frontier.get() get first city in frontier\n",
    "\n",
    "        for adj_node in current_node.adj_nodes: \n",
    "            if adj_node not in visited_nodes:\n",
    "                adj_node.prev = current_node\n",
    "            if adj_node == end_node: #if neighbor_node is goal state\n",
    "                return self.sol_found(start_node,adj_node)\n",
    "            \n",
    "            #visited_nodes.add(neighbor_node)\n",
    "            visited_nodes.add(adj_node)\n",
    "            #frontier.put(neighbor_node)\n",
    "            frontier.append(adj_node)\n",
    "            \n",
    "    return \"no path\""
   ]
  },
  {
   "cell_type": "code",
   "execution_count": 6,
   "id": "dd7c67e9",
   "metadata": {},
   "outputs": [
    {
     "name": "stdout",
     "output_type": "stream",
     "text": [
      "BFS path: Arad [cost = 0] -> Sibiu [cost = 140] -> Fagaras [cost = 99] -> Bucharest [cost = 211]\n",
      "total distance= 450\n"
     ]
    }
   ],
   "source": [
    "print(f\"BFS path: {bfs(city_graph,'Arad', 'Bucharest')}\")\n",
    "city_graph.reset_prev_pointers()\n"
   ]
  },
  {
   "cell_type": "code",
   "execution_count": null,
   "id": "1de09459",
   "metadata": {},
   "outputs": [],
   "source": []
  },
  {
   "cell_type": "markdown",
   "id": "e27de0bb",
   "metadata": {
    "deletable": false,
    "editable": false
   },
   "source": [
    "### 2.  DFS Implementation\n",
    "\n",
    "Provide your implementation of the DFS Search below."
   ]
  },
  {
   "cell_type": "code",
   "execution_count": 7,
   "id": "c491c5ac",
   "metadata": {},
   "outputs": [],
   "source": [
    "# *************************************\n",
    "# DFS CODE\n",
    "# *************************************\n",
    "\n",
    "#picks node and explores as deep as possible until goal node is found\n",
    "\n",
    "def dfs(self, start_node, end_node):\n",
    "    if (not isinstance(start_node, Node)):\n",
    "        start_node = self.cities[start_node]\n",
    "    \n",
    "    if (not isinstance(end_node, Node)):\n",
    "        end_node = self.cities[end_node]\n",
    "\n",
    "    visited_nodes = set()\n",
    "    frontier = []\n",
    "    visited_nodes.add(start_node)\n",
    "    frontier.append(start_node)\n",
    "    while (frontier): # while frontier is not empty\n",
    "        current_node = frontier.pop() #current_node = frontier.get() get last city in frontier (only difference between bfs & dfs)\n",
    "        for adj_node in current_node.adj_nodes:\n",
    "            if adj_node not in visited_nodes:\n",
    "                adj_node.prev = current_node\n",
    "            if adj_node == end_node: #if neighbor_node is goal state\n",
    "                return self.sol_found(start_node,adj_node)\n",
    "            #visited_nodes.add(neighbor_node)\n",
    "            visited_nodes.add(adj_node)\n",
    "            #frontier.put(neighbor_node)\n",
    "            frontier.append(adj_node)\n",
    "        \n",
    "    return \"no path\""
   ]
  },
  {
   "cell_type": "code",
   "execution_count": 8,
   "id": "72d33bd7",
   "metadata": {},
   "outputs": [
    {
     "name": "stdout",
     "output_type": "stream",
     "text": [
      "DFS path: Arad [cost = 0] -> Timisoara [cost = 118] -> Lugoj [cost = 111] -> Mehadia [cost = 70] -> Dobreta [cost = 75] -> Craiova [cost = 120] -> Pitesti [cost = 138] -> Bucharest [cost = 101]\n",
      "total distance= 733\n"
     ]
    }
   ],
   "source": [
    "print(f\"DFS path: {dfs(city_graph,'Arad', 'Bucharest')}\")\n",
    "city_graph.reset_prev_pointers()\n"
   ]
  },
  {
   "cell_type": "code",
   "execution_count": null,
   "id": "f9c9852d",
   "metadata": {},
   "outputs": [],
   "source": []
  },
  {
   "cell_type": "code",
   "execution_count": null,
   "id": "875b7211",
   "metadata": {},
   "outputs": [],
   "source": []
  },
  {
   "cell_type": "code",
   "execution_count": null,
   "id": "e1bcd227",
   "metadata": {},
   "outputs": [],
   "source": []
  },
  {
   "cell_type": "markdown",
   "id": "509df9d1",
   "metadata": {
    "deletable": false,
    "editable": false
   },
   "source": [
    "### 3. UCS Implementation\n",
    "\n",
    "Provide your implementation of the UCS Search below."
   ]
  },
  {
   "cell_type": "code",
   "execution_count": 9,
   "id": "4380f2b5",
   "metadata": {},
   "outputs": [],
   "source": [
    "#built in PQ doesn't support indexing\n",
    "class PriorityQueue:\n",
    "    def __init__(self):\n",
    "        self.queue = [] # key = priority  , value = node object\n",
    "    \n",
    "    def sort_queue(self):\n",
    "        self.queue = sorted(self.queue, key=lambda x: x[0])\n",
    "\n",
    "    def put(self, node):\n",
    "        self.queue.append(node)\n",
    "        self.sort_queue()\n",
    "    \n",
    "    def get(self):\n",
    "        return self.queue.pop(0)\n",
    "    \n",
    "    def empty(self):\n",
    "        return len(self.queue) == 0\n",
    "    \n",
    "    def get_queue(self):\n",
    "        return self.queue\n",
    "    \n",
    "    def count(self, node): \n",
    "        return self.queue.count(node)\n",
    "    \n",
    "    def remove_occurrences_except_min(self, node_value):\n",
    "        occurrences = [n for n in self.queue if n[1].value == node_value]\n",
    "        if occurrences:\n",
    "            min_occurrence = min(occurrences, key=lambda x: x[0])\n",
    "            self.queue = [n for n in self.queue if n[1].value != node_value or n == min_occurrence]\n"
   ]
  },
  {
   "cell_type": "code",
   "execution_count": 10,
   "id": "4cac2244",
   "metadata": {},
   "outputs": [],
   "source": [
    "# *************************************\n",
    "# UCS CODE\n",
    "# *************************************\n",
    "def compute_cost(cur_node):\n",
    "    cost = 0\n",
    "    tmp = cur_node\n",
    "    while tmp.prev is not None:\n",
    "        cost += tmp.adj_nodes[tmp.prev]\n",
    "        tmp = tmp.prev\n",
    "    return cost\n",
    "\n",
    "def ucs(self, start_node, end_node):\n",
    "    if (not isinstance(start_node, Node)):\n",
    "        start_node = self.cities[start_node]\n",
    "    if (not isinstance(end_node, Node)):\n",
    "        end_node = self.cities[end_node]\n",
    "    visited_nodes = set()\n",
    "    frontier = PriorityQueue()  # (priority, node)\n",
    "    frontier.put((0, start_node))\n",
    "    while (frontier):  # while frontier is not empty\n",
    "        current_cost, current_node = frontier.get()\n",
    "        visited_nodes.add(current_node)\n",
    "    \n",
    "        if current_node == end_node:\n",
    "            return self.sol_found(start_node, current_node)\n",
    "        for adj_node in current_node.adj_nodes:\n",
    "            if adj_node not in visited_nodes:\n",
    "                adj_node.prev = current_node\n",
    "                # compute cost and put it in frontier (priority queue)\n",
    "                current_cost = compute_cost(adj_node)\n",
    "                # print(adj_node.value)\n",
    "                #if these same node.value is in the frontier with a lower cost then update the current cost to that cost\n",
    "                frontier.put((current_cost, adj_node))\n",
    "            if frontier.count(adj_node) > 1:\n",
    "                print(frontier.count(adj_node))\n",
    "                frontier.remove_occurrences_except_min(adj_node.value)\n",
    "    return \"no path\""
   ]
  },
  {
   "cell_type": "code",
   "execution_count": 11,
   "id": "0167a7f6",
   "metadata": {},
   "outputs": [
    {
     "name": "stdout",
     "output_type": "stream",
     "text": [
      "UCS path: Arad [cost = 0] -> Sibiu [cost = 140] -> Rimnicu Vilcea [cost = 80] -> Pitesti [cost = 97] -> Bucharest [cost = 101]\n",
      "total distance= 418\n"
     ]
    }
   ],
   "source": [
    "print(f\"UCS path: {ucs(city_graph,'Arad', 'Bucharest')}\")\n",
    "city_graph.reset_prev_pointers()\n"
   ]
  },
  {
   "cell_type": "code",
   "execution_count": null,
   "id": "9530b9cf",
   "metadata": {},
   "outputs": [],
   "source": []
  },
  {
   "cell_type": "code",
   "execution_count": null,
   "id": "62321ca5",
   "metadata": {},
   "outputs": [],
   "source": []
  },
  {
   "cell_type": "markdown",
   "id": "c8114e78",
   "metadata": {
    "deletable": false,
    "editable": false
   },
   "source": [
    "### 4. GBFS Implementation\n",
    "\n",
    "Provide your implementation of the GBFS Search below."
   ]
  },
  {
   "cell_type": "code",
   "execution_count": 12,
   "id": "27db6720",
   "metadata": {},
   "outputs": [],
   "source": [
    "# *************************************\n",
    "# gbfs CODE\n",
    "# *************************************\n",
    "def gbfs(self, start_node , end_node):\n",
    "    if (not isinstance(start_node, Node)):\n",
    "        start_node = self.cities[start_node]\n",
    "    if (not isinstance(end_node, Node)):\n",
    "        end_node = self.cities[end_node]\n",
    "        \n",
    "    visited_nodes = set()\n",
    "    frontier = PriorityQueue()  # (priority, node)\n",
    "    \n",
    "    frontier.put((0, start_node))\n",
    "    while (frontier):\n",
    "        current_cost, current_node = frontier.get()\n",
    "        visited_nodes.add(current_node)\n",
    "        if current_node == end_node:\n",
    "            return self.sol_found(start_node, current_node)\n",
    "        for adj_node in current_node.adj_nodes:\n",
    "            if adj_node not in visited_nodes:\n",
    "                adj_node.prev = current_node\n",
    "                # compute cost and put it in frontier (priority queue)\n",
    "                current_cost = sld_to_Bucharest[adj_node.value] #shortest long distance to Bucharest\n",
    "                frontier.put((current_cost, adj_node))\n",
    "            if frontier.count(adj_node) > 1:\n",
    "                frontier.remove_occurrences_except_min(adj_node.value)"
   ]
  },
  {
   "cell_type": "code",
   "execution_count": 13,
   "id": "6b1ec361",
   "metadata": {},
   "outputs": [
    {
     "name": "stdout",
     "output_type": "stream",
     "text": [
      "GBFS path: Arad [cost = 0] -> Sibiu [cost = 140] -> Fagaras [cost = 99] -> Bucharest [cost = 211]\n",
      "total distance= 450\n"
     ]
    }
   ],
   "source": [
    "print(f\"GBFS path: {gbfs(city_graph,'Arad', 'Bucharest')}\")\n",
    "city_graph.reset_prev_pointers()\n"
   ]
  },
  {
   "cell_type": "code",
   "execution_count": null,
   "id": "4df85129",
   "metadata": {},
   "outputs": [],
   "source": []
  },
  {
   "cell_type": "code",
   "execution_count": null,
   "id": "210a4fc0",
   "metadata": {},
   "outputs": [],
   "source": []
  },
  {
   "cell_type": "code",
   "execution_count": null,
   "id": "56c78f07",
   "metadata": {},
   "outputs": [],
   "source": []
  },
  {
   "cell_type": "markdown",
   "id": "d02b50ea",
   "metadata": {
    "deletable": false,
    "editable": false
   },
   "source": [
    "### 5. A* Implementation\n",
    "\n",
    "Provide your implementation of the A* Algorithm below."
   ]
  },
  {
   "cell_type": "code",
   "execution_count": 14,
   "id": "600235f0",
   "metadata": {},
   "outputs": [],
   "source": [
    "\n",
    "def Astar(self, start_node , end_node):\n",
    "    if (not isinstance(start_node, Node)):\n",
    "        start_node = self.cities[start_node]\n",
    "    if (not isinstance(end_node, Node)):\n",
    "        end_node = self.cities[end_node]\n",
    "        \n",
    "    visited_nodes = set()\n",
    "    frontier = PriorityQueue()  # (priority, node)\n",
    "    \n",
    "    frontier.put((0, start_node))\n",
    "    \n",
    "    while (frontier):\n",
    "        current_cost, current_node = frontier.get()\n",
    "        visited_nodes.add(current_node)\n",
    "        if current_node == end_node:\n",
    "            return self.sol_found(start_node, current_node)\n",
    "        for adj_node in current_node.adj_nodes:\n",
    "            if adj_node not in visited_nodes:\n",
    "                adj_node.prev = current_node\n",
    "                # compute cost and put it in frontier (priority queue)\n",
    "                current_cost = sld_to_Bucharest[adj_node.value]\n",
    "                current_cost += compute_cost(adj_node) #shortest long distance to bucharest + cost to get to current node\n",
    "                # print(adj_node.value)\n",
    "                frontier.put((current_cost, adj_node))\n",
    "            if frontier.count(adj_node) > 1:\n",
    "                print(frontier.count(adj_node))\n",
    "                frontier.remove_occurrences_except_min(adj_node.value)"
   ]
  },
  {
   "cell_type": "code",
   "execution_count": 15,
   "id": "9741565f",
   "metadata": {},
   "outputs": [
    {
     "name": "stdout",
     "output_type": "stream",
     "text": [
      "A* path: Arad [cost = 0] -> Sibiu [cost = 140] -> Rimnicu Vilcea [cost = 80] -> Pitesti [cost = 97] -> Bucharest [cost = 101]\n",
      "total distance= 418\n"
     ]
    }
   ],
   "source": [
    "print(f\"A* path: {Astar(city_graph,'Arad', 'Bucharest')}\")\n",
    "city_graph.reset_prev_pointers()\n"
   ]
  },
  {
   "cell_type": "code",
   "execution_count": null,
   "id": "c96659f6",
   "metadata": {},
   "outputs": [],
   "source": []
  },
  {
   "cell_type": "code",
   "execution_count": null,
   "id": "29e80d27",
   "metadata": {},
   "outputs": [],
   "source": []
  },
  {
   "cell_type": "code",
   "execution_count": null,
   "id": "14dad1bc",
   "metadata": {},
   "outputs": [],
   "source": []
  }
 ],
 "metadata": {
  "kernelspec": {
   "display_name": "Python 3 (ipykernel)",
   "language": "python",
   "name": "python3"
  },
  "language_info": {
   "codemirror_mode": {
    "name": "ipython",
    "version": 3
   },
   "file_extension": ".py",
   "mimetype": "text/x-python",
   "name": "python",
   "nbconvert_exporter": "python",
   "pygments_lexer": "ipython3",
   "version": "3.9.13"
  }
 },
 "nbformat": 4,
 "nbformat_minor": 5
}
